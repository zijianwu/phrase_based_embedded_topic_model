{
 "cells": [
  {
   "cell_type": "code",
   "execution_count": 58,
   "metadata": {
    "ExecuteTime": {
     "end_time": "2020-08-01T14:31:44.993722Z",
     "start_time": "2020-08-01T14:31:44.986098Z"
    }
   },
   "outputs": [],
   "source": [
    "import warnings\n",
    "warnings.filterwarnings(\"ignore\")\n",
    "\n",
    "############################ Standard ############################\n",
    "# General\n",
    "import numpy as np\n",
    "import pandas as pd\n",
    "from scipy.stats import ttest_rel\n",
    "import re\n",
    "pd.set_option('display.max_columns', 500)\n",
    "pd.set_option('display.width', 1000)\n",
    "\n",
    "# Plotting\n",
    "import matplotlib.pyplot as plt\n",
    "import seaborn as sns\n",
    "import os\n",
    "%matplotlib inline \n",
    "\n",
    "current_path = os.path.dirname(os.path.realpath('__file__'))"
   ]
  },
  {
   "cell_type": "code",
   "execution_count": 59,
   "metadata": {
    "ExecuteTime": {
     "end_time": "2020-08-01T14:31:45.182742Z",
     "start_time": "2020-08-01T14:31:45.160884Z"
    }
   },
   "outputs": [],
   "source": [
    "testing_filepaths = os.listdir(f\"{current_path}/../outputs/\")\n",
    "testing_filepaths = [ele for ele in testing_filepaths if 'test_output.txt' in ele]"
   ]
  },
  {
   "cell_type": "code",
   "execution_count": 81,
   "metadata": {
    "ExecuteTime": {
     "end_time": "2020-08-01T14:55:13.733738Z",
     "start_time": "2020-08-01T14:55:13.507613Z"
    }
   },
   "outputs": [],
   "source": [
    "window_pattern = re.compile(\"win([0-9]*)\")\n",
    "sg_cbow_pattern = re.compile(\"sg([0-9]*)\")\n",
    "hs_ns_pattern = re.compile(\"hs([0-9]*)\")\n",
    "epochs_pattern = re.compile(\"epochs([0-9]*)\")\n",
    "topic_coherence_pattern = re.compile(\"Topic coherence is: (-?[0-9].?[0-9]*)\")\n",
    "topic_diversity_pattern = re.compile(\"Topic diveristy is: (-?[0-9].?[0-9]*)\")\n",
    "\n",
    "results = []\n",
    "for testing_filepath in testing_filepaths:\n",
    "    details = {'test_lemma': 0,\n",
    "               'test_no_stop': 0,\n",
    "               'test_norm': 1,\n",
    "               'test_np': 0,\n",
    "               'test_np_only': 0,\n",
    "               'train_lemma': 0,\n",
    "               'train_no_stop': 0,\n",
    "               'train_norm': 1,\n",
    "               'train_np': 0,\n",
    "               'train_np_only': 0,\n",
    "               'train_type': None,  # word2vec vs fasttext\n",
    "               'train_window': None,\n",
    "               'train_sg_cbow': None,\n",
    "               'train_hs_ns': None,\n",
    "               'train_epochs': None}\n",
    "    train_idx_number = testing_filepath.find('train')\n",
    "    test_data_info = testing_filepath[:train_idx_number-1]\n",
    "    train_data_info = testing_filepath[train_idx_number+6:]\n",
    "#     print(test_data_info, train_data_info)\n",
    "    if 'lemma' in test_data_info:\n",
    "        details['test_lemma'] = 1\n",
    "    if 'no_stop' in test_data_info:\n",
    "        details['test_no_stop'] = 1 \n",
    "    if 'norm' in test_data_info:\n",
    "        details['test_norm'] = 1\n",
    "    if 'np' in test_data_info:\n",
    "        details['test_np'] = 1\n",
    "    if ('np' in test_data_info) and ('only' in test_data_info):\n",
    "        details['test_np_only'] = 1\n",
    "    if 'lemma' in train_data_info:\n",
    "        details['train_lemma'] = 1\n",
    "    if 'no_stop' in train_data_info:\n",
    "        details['train_no_stop'] = 1 \n",
    "    if 'norm' in train_data_info:\n",
    "        details['train_norm'] = 1\n",
    "    if 'np' in train_data_info:\n",
    "        details['train_np'] = 1\n",
    "    if ('np' in train_data_info) and ('only' in train_data_info):\n",
    "        details['train_np_only'] = 1\n",
    "    if 'word2vec' in train_data_info:\n",
    "        details['train_type'] = 1 #'word2vec'\n",
    "    elif 'fasttext' in train_data_info:\n",
    "        details['train_type'] = 0 #'fasttext'\n",
    "    else:\n",
    "        details['train_type'] = 'other'\n",
    "    details['train_window'] = int(window_pattern.search(train_data_info).groups()[0])\n",
    "    if sg_cbow_pattern.search(train_data_info).groups()[0] == '0':\n",
    "        details['train_sg_cbow'] = 0\n",
    "    elif sg_cbow_pattern.search(train_data_info).groups()[0] == '1':\n",
    "        details['train_sg_cbow'] = 1\n",
    "    else:\n",
    "        details['train_sg_cbow'] = 'other'\n",
    "    if hs_ns_pattern.search(train_data_info).groups()[0] == '0':\n",
    "        details['train_hs_ns'] = 'ns'\n",
    "    elif hs_ns_pattern.search(train_data_info).groups()[0] == '1':\n",
    "        details['train_hs_ns'] = 'hs'\n",
    "    else:\n",
    "        details['train_hs_ns'] = 'other'\n",
    "    details['train_epochs'] = int(epochs_pattern.search(train_data_info).groups()[0])\n",
    "    opened_file = \" \".join(open(f\"{current_path}/../outputs/{testing_filepath}\").readlines())\n",
    "    try:\n",
    "        details['topic_coherence'] = float(topic_coherence_pattern.search(opened_file).groups()[0])\n",
    "    except:\n",
    "        None\n",
    "    try:\n",
    "        details['topic_diversity'] = float(topic_diversity_pattern.search(opened_file).groups()[0])\n",
    "    except:\n",
    "        None\n",
    "    results.append(details)"
   ]
  },
  {
   "cell_type": "code",
   "execution_count": 82,
   "metadata": {
    "ExecuteTime": {
     "end_time": "2020-08-01T14:55:14.033013Z",
     "start_time": "2020-08-01T14:55:13.994381Z"
    }
   },
   "outputs": [],
   "source": [
    "results = pd.DataFrame(results)\n",
    "results.to_clipboard()"
   ]
  },
  {
   "cell_type": "code",
   "execution_count": 83,
   "metadata": {
    "ExecuteTime": {
     "end_time": "2020-08-01T14:55:14.100368Z",
     "start_time": "2020-08-01T14:55:14.079638Z"
    }
   },
   "outputs": [
    {
     "data": {
      "text/html": [
       "<div>\n",
       "<style scoped>\n",
       "    .dataframe tbody tr th:only-of-type {\n",
       "        vertical-align: middle;\n",
       "    }\n",
       "\n",
       "    .dataframe tbody tr th {\n",
       "        vertical-align: top;\n",
       "    }\n",
       "\n",
       "    .dataframe thead th {\n",
       "        text-align: right;\n",
       "    }\n",
       "</style>\n",
       "<table border=\"1\" class=\"dataframe\">\n",
       "  <thead>\n",
       "    <tr style=\"text-align: right;\">\n",
       "      <th></th>\n",
       "      <th>test_lemma</th>\n",
       "      <th>test_no_stop</th>\n",
       "      <th>test_norm</th>\n",
       "      <th>test_np</th>\n",
       "      <th>test_np_only</th>\n",
       "      <th>train_lemma</th>\n",
       "      <th>train_no_stop</th>\n",
       "      <th>train_norm</th>\n",
       "      <th>train_np</th>\n",
       "      <th>train_np_only</th>\n",
       "      <th>train_type</th>\n",
       "      <th>train_window</th>\n",
       "      <th>train_sg_cbow</th>\n",
       "      <th>train_hs_ns</th>\n",
       "      <th>train_epochs</th>\n",
       "      <th>topic_coherence</th>\n",
       "      <th>topic_diversity</th>\n",
       "    </tr>\n",
       "  </thead>\n",
       "  <tbody>\n",
       "    <tr>\n",
       "      <th>0</th>\n",
       "      <td>0</td>\n",
       "      <td>1</td>\n",
       "      <td>1</td>\n",
       "      <td>1</td>\n",
       "      <td>0</td>\n",
       "      <td>1</td>\n",
       "      <td>1</td>\n",
       "      <td>1</td>\n",
       "      <td>0</td>\n",
       "      <td>0</td>\n",
       "      <td>1</td>\n",
       "      <td>3</td>\n",
       "      <td>0</td>\n",
       "      <td>ns</td>\n",
       "      <td>40</td>\n",
       "      <td>0.164246</td>\n",
       "      <td>0.944</td>\n",
       "    </tr>\n",
       "    <tr>\n",
       "      <th>1</th>\n",
       "      <td>0</td>\n",
       "      <td>1</td>\n",
       "      <td>1</td>\n",
       "      <td>1</td>\n",
       "      <td>0</td>\n",
       "      <td>1</td>\n",
       "      <td>1</td>\n",
       "      <td>1</td>\n",
       "      <td>0</td>\n",
       "      <td>0</td>\n",
       "      <td>1</td>\n",
       "      <td>3</td>\n",
       "      <td>0</td>\n",
       "      <td>ns</td>\n",
       "      <td>50</td>\n",
       "      <td>0.183466</td>\n",
       "      <td>0.922</td>\n",
       "    </tr>\n",
       "    <tr>\n",
       "      <th>2</th>\n",
       "      <td>0</td>\n",
       "      <td>1</td>\n",
       "      <td>1</td>\n",
       "      <td>1</td>\n",
       "      <td>0</td>\n",
       "      <td>1</td>\n",
       "      <td>1</td>\n",
       "      <td>1</td>\n",
       "      <td>0</td>\n",
       "      <td>0</td>\n",
       "      <td>1</td>\n",
       "      <td>6</td>\n",
       "      <td>0</td>\n",
       "      <td>ns</td>\n",
       "      <td>30</td>\n",
       "      <td>0.157067</td>\n",
       "      <td>0.902</td>\n",
       "    </tr>\n",
       "    <tr>\n",
       "      <th>3</th>\n",
       "      <td>0</td>\n",
       "      <td>1</td>\n",
       "      <td>1</td>\n",
       "      <td>1</td>\n",
       "      <td>0</td>\n",
       "      <td>1</td>\n",
       "      <td>1</td>\n",
       "      <td>1</td>\n",
       "      <td>0</td>\n",
       "      <td>0</td>\n",
       "      <td>1</td>\n",
       "      <td>6</td>\n",
       "      <td>0</td>\n",
       "      <td>hs</td>\n",
       "      <td>20</td>\n",
       "      <td>0.166684</td>\n",
       "      <td>0.956</td>\n",
       "    </tr>\n",
       "    <tr>\n",
       "      <th>4</th>\n",
       "      <td>0</td>\n",
       "      <td>1</td>\n",
       "      <td>1</td>\n",
       "      <td>1</td>\n",
       "      <td>0</td>\n",
       "      <td>1</td>\n",
       "      <td>1</td>\n",
       "      <td>1</td>\n",
       "      <td>0</td>\n",
       "      <td>0</td>\n",
       "      <td>1</td>\n",
       "      <td>3</td>\n",
       "      <td>0</td>\n",
       "      <td>hs</td>\n",
       "      <td>20</td>\n",
       "      <td>0.144600</td>\n",
       "      <td>0.950</td>\n",
       "    </tr>\n",
       "    <tr>\n",
       "      <th>...</th>\n",
       "      <td>...</td>\n",
       "      <td>...</td>\n",
       "      <td>...</td>\n",
       "      <td>...</td>\n",
       "      <td>...</td>\n",
       "      <td>...</td>\n",
       "      <td>...</td>\n",
       "      <td>...</td>\n",
       "      <td>...</td>\n",
       "      <td>...</td>\n",
       "      <td>...</td>\n",
       "      <td>...</td>\n",
       "      <td>...</td>\n",
       "      <td>...</td>\n",
       "      <td>...</td>\n",
       "      <td>...</td>\n",
       "      <td>...</td>\n",
       "    </tr>\n",
       "    <tr>\n",
       "      <th>594</th>\n",
       "      <td>1</td>\n",
       "      <td>1</td>\n",
       "      <td>1</td>\n",
       "      <td>0</td>\n",
       "      <td>0</td>\n",
       "      <td>0</td>\n",
       "      <td>1</td>\n",
       "      <td>1</td>\n",
       "      <td>1</td>\n",
       "      <td>0</td>\n",
       "      <td>0</td>\n",
       "      <td>3</td>\n",
       "      <td>0</td>\n",
       "      <td>ns</td>\n",
       "      <td>50</td>\n",
       "      <td>NaN</td>\n",
       "      <td>NaN</td>\n",
       "    </tr>\n",
       "    <tr>\n",
       "      <th>595</th>\n",
       "      <td>1</td>\n",
       "      <td>1</td>\n",
       "      <td>1</td>\n",
       "      <td>0</td>\n",
       "      <td>0</td>\n",
       "      <td>0</td>\n",
       "      <td>1</td>\n",
       "      <td>1</td>\n",
       "      <td>1</td>\n",
       "      <td>0</td>\n",
       "      <td>0</td>\n",
       "      <td>3</td>\n",
       "      <td>0</td>\n",
       "      <td>ns</td>\n",
       "      <td>10</td>\n",
       "      <td>0.161029</td>\n",
       "      <td>0.964</td>\n",
       "    </tr>\n",
       "    <tr>\n",
       "      <th>596</th>\n",
       "      <td>1</td>\n",
       "      <td>1</td>\n",
       "      <td>1</td>\n",
       "      <td>0</td>\n",
       "      <td>0</td>\n",
       "      <td>1</td>\n",
       "      <td>1</td>\n",
       "      <td>1</td>\n",
       "      <td>1</td>\n",
       "      <td>0</td>\n",
       "      <td>0</td>\n",
       "      <td>3</td>\n",
       "      <td>0</td>\n",
       "      <td>ns</td>\n",
       "      <td>10</td>\n",
       "      <td>0.147737</td>\n",
       "      <td>0.958</td>\n",
       "    </tr>\n",
       "    <tr>\n",
       "      <th>597</th>\n",
       "      <td>1</td>\n",
       "      <td>1</td>\n",
       "      <td>1</td>\n",
       "      <td>0</td>\n",
       "      <td>0</td>\n",
       "      <td>1</td>\n",
       "      <td>0</td>\n",
       "      <td>1</td>\n",
       "      <td>1</td>\n",
       "      <td>0</td>\n",
       "      <td>0</td>\n",
       "      <td>9</td>\n",
       "      <td>0</td>\n",
       "      <td>ns</td>\n",
       "      <td>50</td>\n",
       "      <td>-0.327248</td>\n",
       "      <td>0.870</td>\n",
       "    </tr>\n",
       "    <tr>\n",
       "      <th>598</th>\n",
       "      <td>1</td>\n",
       "      <td>1</td>\n",
       "      <td>1</td>\n",
       "      <td>0</td>\n",
       "      <td>0</td>\n",
       "      <td>1</td>\n",
       "      <td>0</td>\n",
       "      <td>1</td>\n",
       "      <td>1</td>\n",
       "      <td>0</td>\n",
       "      <td>0</td>\n",
       "      <td>9</td>\n",
       "      <td>0</td>\n",
       "      <td>ns</td>\n",
       "      <td>10</td>\n",
       "      <td>-0.013550</td>\n",
       "      <td>0.942</td>\n",
       "    </tr>\n",
       "  </tbody>\n",
       "</table>\n",
       "<p>599 rows × 17 columns</p>\n",
       "</div>"
      ],
      "text/plain": [
       "     test_lemma  test_no_stop  test_norm  test_np  test_np_only  train_lemma  train_no_stop  train_norm  train_np  train_np_only  train_type  train_window  train_sg_cbow train_hs_ns  train_epochs  topic_coherence  topic_diversity\n",
       "0             0             1          1        1             0            1              1           1         0              0           1             3              0          ns            40         0.164246            0.944\n",
       "1             0             1          1        1             0            1              1           1         0              0           1             3              0          ns            50         0.183466            0.922\n",
       "2             0             1          1        1             0            1              1           1         0              0           1             6              0          ns            30         0.157067            0.902\n",
       "3             0             1          1        1             0            1              1           1         0              0           1             6              0          hs            20         0.166684            0.956\n",
       "4             0             1          1        1             0            1              1           1         0              0           1             3              0          hs            20         0.144600            0.950\n",
       "..          ...           ...        ...      ...           ...          ...            ...         ...       ...            ...         ...           ...            ...         ...           ...              ...              ...\n",
       "594           1             1          1        0             0            0              1           1         1              0           0             3              0          ns            50              NaN              NaN\n",
       "595           1             1          1        0             0            0              1           1         1              0           0             3              0          ns            10         0.161029            0.964\n",
       "596           1             1          1        0             0            1              1           1         1              0           0             3              0          ns            10         0.147737            0.958\n",
       "597           1             1          1        0             0            1              0           1         1              0           0             9              0          ns            50        -0.327248            0.870\n",
       "598           1             1          1        0             0            1              0           1         1              0           0             9              0          ns            10        -0.013550            0.942\n",
       "\n",
       "[599 rows x 17 columns]"
      ]
     },
     "execution_count": 83,
     "metadata": {},
     "output_type": "execute_result"
    }
   ],
   "source": [
    "results"
   ]
  },
  {
   "cell_type": "code",
   "execution_count": 84,
   "metadata": {
    "ExecuteTime": {
     "end_time": "2020-08-01T14:55:14.171289Z",
     "start_time": "2020-08-01T14:55:14.167042Z"
    }
   },
   "outputs": [
    {
     "data": {
      "text/plain": [
       "Index(['test_lemma', 'test_no_stop', 'test_norm', 'test_np', 'test_np_only', 'train_lemma', 'train_no_stop', 'train_norm', 'train_np', 'train_np_only', 'train_type', 'train_window', 'train_sg_cbow', 'train_hs_ns', 'train_epochs', 'topic_coherence', 'topic_diversity'], dtype='object')"
      ]
     },
     "execution_count": 84,
     "metadata": {},
     "output_type": "execute_result"
    }
   ],
   "source": [
    "results.columns"
   ]
  },
  {
   "cell_type": "code",
   "execution_count": 85,
   "metadata": {
    "ExecuteTime": {
     "end_time": "2020-08-01T14:55:14.294027Z",
     "start_time": "2020-08-01T14:55:14.244571Z"
    }
   },
   "outputs": [
    {
     "data": {
      "text/html": [
       "<div>\n",
       "<style scoped>\n",
       "    .dataframe tbody tr th:only-of-type {\n",
       "        vertical-align: middle;\n",
       "    }\n",
       "\n",
       "    .dataframe tbody tr th {\n",
       "        vertical-align: top;\n",
       "    }\n",
       "\n",
       "    .dataframe thead th {\n",
       "        text-align: right;\n",
       "    }\n",
       "</style>\n",
       "<table border=\"1\" class=\"dataframe\">\n",
       "  <thead>\n",
       "    <tr style=\"text-align: right;\">\n",
       "      <th></th>\n",
       "      <th></th>\n",
       "      <th></th>\n",
       "      <th></th>\n",
       "      <th></th>\n",
       "      <th></th>\n",
       "      <th></th>\n",
       "      <th></th>\n",
       "      <th></th>\n",
       "      <th></th>\n",
       "      <th></th>\n",
       "      <th></th>\n",
       "      <th></th>\n",
       "      <th>train_np</th>\n",
       "      <th>0</th>\n",
       "      <th>1</th>\n",
       "    </tr>\n",
       "    <tr>\n",
       "      <th>test_lemma</th>\n",
       "      <th>test_no_stop</th>\n",
       "      <th>test_norm</th>\n",
       "      <th>test_np</th>\n",
       "      <th>test_np_only</th>\n",
       "      <th>train_lemma</th>\n",
       "      <th>train_no_stop</th>\n",
       "      <th>train_norm</th>\n",
       "      <th>train_np_only</th>\n",
       "      <th>train_type</th>\n",
       "      <th>train_window</th>\n",
       "      <th>train_sg_cbow</th>\n",
       "      <th>train_hs_ns</th>\n",
       "      <th>train_epochs</th>\n",
       "      <th></th>\n",
       "      <th></th>\n",
       "    </tr>\n",
       "  </thead>\n",
       "  <tbody>\n",
       "    <tr>\n",
       "      <th rowspan=\"5\" valign=\"top\">0</th>\n",
       "      <th rowspan=\"5\" valign=\"top\">0</th>\n",
       "      <th rowspan=\"5\" valign=\"top\">1</th>\n",
       "      <th rowspan=\"5\" valign=\"top\">0</th>\n",
       "      <th rowspan=\"5\" valign=\"top\">0</th>\n",
       "      <th rowspan=\"5\" valign=\"top\">0</th>\n",
       "      <th rowspan=\"5\" valign=\"top\">0</th>\n",
       "      <th rowspan=\"5\" valign=\"top\">1</th>\n",
       "      <th rowspan=\"5\" valign=\"top\">0</th>\n",
       "      <th rowspan=\"2\" valign=\"top\">0</th>\n",
       "      <th rowspan=\"2\" valign=\"top\">9</th>\n",
       "      <th rowspan=\"2\" valign=\"top\">0</th>\n",
       "      <th rowspan=\"2\" valign=\"top\">ns</th>\n",
       "      <th>10</th>\n",
       "      <td>-0.192768</td>\n",
       "      <td>NaN</td>\n",
       "    </tr>\n",
       "    <tr>\n",
       "      <th>50</th>\n",
       "      <td>-0.513770</td>\n",
       "      <td>NaN</td>\n",
       "    </tr>\n",
       "    <tr>\n",
       "      <th rowspan=\"3\" valign=\"top\">1</th>\n",
       "      <th rowspan=\"3\" valign=\"top\">3</th>\n",
       "      <th rowspan=\"3\" valign=\"top\">0</th>\n",
       "      <th rowspan=\"2\" valign=\"top\">hs</th>\n",
       "      <th>20</th>\n",
       "      <td>0.128456</td>\n",
       "      <td>NaN</td>\n",
       "    </tr>\n",
       "    <tr>\n",
       "      <th>30</th>\n",
       "      <td>0.132067</td>\n",
       "      <td>NaN</td>\n",
       "    </tr>\n",
       "    <tr>\n",
       "      <th>ns</th>\n",
       "      <th>10</th>\n",
       "      <td>0.140814</td>\n",
       "      <td>NaN</td>\n",
       "    </tr>\n",
       "    <tr>\n",
       "      <th>...</th>\n",
       "      <th>...</th>\n",
       "      <th>...</th>\n",
       "      <th>...</th>\n",
       "      <th>...</th>\n",
       "      <th>...</th>\n",
       "      <th>...</th>\n",
       "      <th>...</th>\n",
       "      <th>...</th>\n",
       "      <th>...</th>\n",
       "      <th>...</th>\n",
       "      <th>...</th>\n",
       "      <th>...</th>\n",
       "      <th>...</th>\n",
       "      <td>...</td>\n",
       "      <td>...</td>\n",
       "    </tr>\n",
       "    <tr>\n",
       "      <th rowspan=\"5\" valign=\"top\">1</th>\n",
       "      <th rowspan=\"5\" valign=\"top\">1</th>\n",
       "      <th rowspan=\"5\" valign=\"top\">1</th>\n",
       "      <th rowspan=\"5\" valign=\"top\">1</th>\n",
       "      <th rowspan=\"5\" valign=\"top\">0</th>\n",
       "      <th rowspan=\"5\" valign=\"top\">1</th>\n",
       "      <th rowspan=\"5\" valign=\"top\">1</th>\n",
       "      <th rowspan=\"5\" valign=\"top\">1</th>\n",
       "      <th rowspan=\"5\" valign=\"top\">0</th>\n",
       "      <th rowspan=\"5\" valign=\"top\">1</th>\n",
       "      <th rowspan=\"5\" valign=\"top\">9</th>\n",
       "      <th rowspan=\"3\" valign=\"top\">0</th>\n",
       "      <th rowspan=\"3\" valign=\"top\">ns</th>\n",
       "      <th>10</th>\n",
       "      <td>0.196527</td>\n",
       "      <td>0.187607</td>\n",
       "    </tr>\n",
       "    <tr>\n",
       "      <th>20</th>\n",
       "      <td>0.175129</td>\n",
       "      <td>NaN</td>\n",
       "    </tr>\n",
       "    <tr>\n",
       "      <th>50</th>\n",
       "      <td>NaN</td>\n",
       "      <td>0.174493</td>\n",
       "    </tr>\n",
       "    <tr>\n",
       "      <th rowspan=\"2\" valign=\"top\">1</th>\n",
       "      <th>hs</th>\n",
       "      <th>10</th>\n",
       "      <td>-0.536657</td>\n",
       "      <td>NaN</td>\n",
       "    </tr>\n",
       "    <tr>\n",
       "      <th>ns</th>\n",
       "      <th>10</th>\n",
       "      <td>-0.076293</td>\n",
       "      <td>NaN</td>\n",
       "    </tr>\n",
       "  </tbody>\n",
       "</table>\n",
       "<p>445 rows × 2 columns</p>\n",
       "</div>"
      ],
      "text/plain": [
       "train_np                                                                                                                                                                         0         1\n",
       "test_lemma test_no_stop test_norm test_np test_np_only train_lemma train_no_stop train_norm train_np_only train_type train_window train_sg_cbow train_hs_ns train_epochs                    \n",
       "0          0            1         0       0            0           0             1          0             0          9            0             ns          10           -0.192768       NaN\n",
       "                                                                                                                                                            50           -0.513770       NaN\n",
       "                                                                                                          1          3            0             hs          20            0.128456       NaN\n",
       "                                                                                                                                                            30            0.132067       NaN\n",
       "                                                                                                                                                ns          10            0.140814       NaN\n",
       "...                                                                                                                                                                            ...       ...\n",
       "1          1            1         1       0            1           1             1          0             1          9            0             ns          10            0.196527  0.187607\n",
       "                                                                                                                                                            20            0.175129       NaN\n",
       "                                                                                                                                                            50                 NaN  0.174493\n",
       "                                                                                                                                  1             hs          10           -0.536657       NaN\n",
       "                                                                                                                                                ns          10           -0.076293       NaN\n",
       "\n",
       "[445 rows x 2 columns]"
      ]
     },
     "execution_count": 85,
     "metadata": {},
     "output_type": "execute_result"
    }
   ],
   "source": [
    "values = 'topic_coherence'\n",
    "columns = 'train_np'\n",
    "index = [ele for ele in results.columns if ele not in [values, columns, 'topic_diversity']]\n",
    "temp_results = results.pivot_table(values=values,\n",
    "                                   columns=columns,\n",
    "                                   index=index)\n",
    "temp_results"
   ]
  },
  {
   "cell_type": "code",
   "execution_count": 104,
   "metadata": {
    "ExecuteTime": {
     "end_time": "2020-08-01T18:08:37.839842Z",
     "start_time": "2020-08-01T18:08:37.535436Z"
    }
   },
   "outputs": [
    {
     "data": {
      "text/plain": [
       "Ttest_relResult(statistic=-4.331624383175104, pvalue=0.0002939990836863141)"
      ]
     },
     "execution_count": 104,
     "metadata": {},
     "output_type": "execute_result"
    },
    {
     "data": {
      "image/png": "[encoded data removed]",
      "text/plain": [
       "<Figure size 432x288 with 1 Axes>"
      ]
     },
     "metadata": {
      "needs_background": "light"
     },
     "output_type": "display_data"
    }
   ],
   "source": [
    "values = 'topic_coherence'\n",
    "columns = 'train_np'\n",
    "index = [ele for ele in results.columns if ele not in [values, columns, 'topic_diversity']]\n",
    "temp_results = results.pivot_table(values=values,\n",
    "                                   columns=columns,\n",
    "                                   index=index)\n",
    "# sns.barplot(x=columns, y='value', data=temp_results.reset_index(drop=True).melt())\n",
    "sns.lineplot(data=temp_results.dropna().reset_index(drop=True).T.reset_index(drop=True).iloc[:,:6])\n",
    "ttest_rel(temp_results[0], temp_results[1], nan_policy='omit')"
   ]
  },
  {
   "cell_type": "code",
   "execution_count": 87,
   "metadata": {
    "ExecuteTime": {
     "end_time": "2020-08-01T14:55:14.712844Z",
     "start_time": "2020-08-01T14:55:14.695459Z"
    }
   },
   "outputs": [
    {
     "data": {
      "text/html": [
       "<div>\n",
       "<style scoped>\n",
       "    .dataframe tbody tr th:only-of-type {\n",
       "        vertical-align: middle;\n",
       "    }\n",
       "\n",
       "    .dataframe tbody tr th {\n",
       "        vertical-align: top;\n",
       "    }\n",
       "\n",
       "    .dataframe thead th {\n",
       "        text-align: right;\n",
       "    }\n",
       "</style>\n",
       "<table border=\"1\" class=\"dataframe\">\n",
       "  <thead>\n",
       "    <tr style=\"text-align: right;\">\n",
       "      <th></th>\n",
       "      <th></th>\n",
       "      <th></th>\n",
       "      <th></th>\n",
       "      <th></th>\n",
       "      <th></th>\n",
       "      <th></th>\n",
       "      <th></th>\n",
       "      <th></th>\n",
       "      <th></th>\n",
       "      <th></th>\n",
       "      <th></th>\n",
       "      <th></th>\n",
       "      <th>train_np</th>\n",
       "      <th>0</th>\n",
       "      <th>1</th>\n",
       "    </tr>\n",
       "    <tr>\n",
       "      <th>test_lemma</th>\n",
       "      <th>test_no_stop</th>\n",
       "      <th>test_norm</th>\n",
       "      <th>test_np</th>\n",
       "      <th>test_np_only</th>\n",
       "      <th>train_lemma</th>\n",
       "      <th>train_no_stop</th>\n",
       "      <th>train_norm</th>\n",
       "      <th>train_np_only</th>\n",
       "      <th>train_type</th>\n",
       "      <th>train_window</th>\n",
       "      <th>train_sg_cbow</th>\n",
       "      <th>train_hs_ns</th>\n",
       "      <th>train_epochs</th>\n",
       "      <th></th>\n",
       "      <th></th>\n",
       "    </tr>\n",
       "  </thead>\n",
       "  <tbody>\n",
       "    <tr>\n",
       "      <th rowspan=\"9\" valign=\"top\">0</th>\n",
       "      <th rowspan=\"9\" valign=\"top\">0</th>\n",
       "      <th rowspan=\"9\" valign=\"top\">1</th>\n",
       "      <th rowspan=\"9\" valign=\"top\">0</th>\n",
       "      <th rowspan=\"9\" valign=\"top\">0</th>\n",
       "      <th rowspan=\"9\" valign=\"top\">1</th>\n",
       "      <th rowspan=\"4\" valign=\"top\">0</th>\n",
       "      <th rowspan=\"4\" valign=\"top\">1</th>\n",
       "      <th rowspan=\"4\" valign=\"top\">0</th>\n",
       "      <th rowspan=\"4\" valign=\"top\">0</th>\n",
       "      <th rowspan=\"2\" valign=\"top\">3</th>\n",
       "      <th rowspan=\"2\" valign=\"top\">0</th>\n",
       "      <th rowspan=\"2\" valign=\"top\">ns</th>\n",
       "      <th>10</th>\n",
       "      <td>0.059688</td>\n",
       "      <td>0.101322</td>\n",
       "    </tr>\n",
       "    <tr>\n",
       "      <th>50</th>\n",
       "      <td>-0.212111</td>\n",
       "      <td>0.056507</td>\n",
       "    </tr>\n",
       "    <tr>\n",
       "      <th rowspan=\"2\" valign=\"top\">9</th>\n",
       "      <th rowspan=\"2\" valign=\"top\">0</th>\n",
       "      <th rowspan=\"2\" valign=\"top\">ns</th>\n",
       "      <th>10</th>\n",
       "      <td>-0.084473</td>\n",
       "      <td>0.008986</td>\n",
       "    </tr>\n",
       "    <tr>\n",
       "      <th>50</th>\n",
       "      <td>-0.378540</td>\n",
       "      <td>-0.212059</td>\n",
       "    </tr>\n",
       "    <tr>\n",
       "      <th rowspan=\"5\" valign=\"top\">1</th>\n",
       "      <th rowspan=\"5\" valign=\"top\">1</th>\n",
       "      <th rowspan=\"5\" valign=\"top\">0</th>\n",
       "      <th rowspan=\"3\" valign=\"top\">0</th>\n",
       "      <th>3</th>\n",
       "      <th>0</th>\n",
       "      <th>ns</th>\n",
       "      <th>50</th>\n",
       "      <td>-0.140760</td>\n",
       "      <td>0.043857</td>\n",
       "    </tr>\n",
       "    <tr>\n",
       "      <th rowspan=\"2\" valign=\"top\">9</th>\n",
       "      <th rowspan=\"2\" valign=\"top\">0</th>\n",
       "      <th rowspan=\"2\" valign=\"top\">ns</th>\n",
       "      <th>10</th>\n",
       "      <td>-0.099393</td>\n",
       "      <td>0.067162</td>\n",
       "    </tr>\n",
       "    <tr>\n",
       "      <th>50</th>\n",
       "      <td>-0.120406</td>\n",
       "      <td>0.012906</td>\n",
       "    </tr>\n",
       "    <tr>\n",
       "      <th rowspan=\"2\" valign=\"top\">1</th>\n",
       "      <th rowspan=\"2\" valign=\"top\">3</th>\n",
       "      <th rowspan=\"2\" valign=\"top\">0</th>\n",
       "      <th rowspan=\"2\" valign=\"top\">ns</th>\n",
       "      <th>10</th>\n",
       "      <td>0.128353</td>\n",
       "      <td>0.121544</td>\n",
       "    </tr>\n",
       "    <tr>\n",
       "      <th>50</th>\n",
       "      <td>0.040243</td>\n",
       "      <td>0.072738</td>\n",
       "    </tr>\n",
       "    <tr>\n",
       "      <th rowspan=\"13\" valign=\"top\">1</th>\n",
       "      <th rowspan=\"13\" valign=\"top\">1</th>\n",
       "      <th rowspan=\"13\" valign=\"top\">1</th>\n",
       "      <th rowspan=\"10\" valign=\"top\">0</th>\n",
       "      <th rowspan=\"10\" valign=\"top\">0</th>\n",
       "      <th rowspan=\"10\" valign=\"top\">1</th>\n",
       "      <th rowspan=\"4\" valign=\"top\">0</th>\n",
       "      <th rowspan=\"4\" valign=\"top\">1</th>\n",
       "      <th rowspan=\"4\" valign=\"top\">0</th>\n",
       "      <th rowspan=\"4\" valign=\"top\">0</th>\n",
       "      <th rowspan=\"2\" valign=\"top\">3</th>\n",
       "      <th rowspan=\"2\" valign=\"top\">0</th>\n",
       "      <th rowspan=\"2\" valign=\"top\">ns</th>\n",
       "      <th>10</th>\n",
       "      <td>0.084120</td>\n",
       "      <td>0.133120</td>\n",
       "    </tr>\n",
       "    <tr>\n",
       "      <th>50</th>\n",
       "      <td>-0.234643</td>\n",
       "      <td>0.050589</td>\n",
       "    </tr>\n",
       "    <tr>\n",
       "      <th rowspan=\"2\" valign=\"top\">9</th>\n",
       "      <th rowspan=\"2\" valign=\"top\">0</th>\n",
       "      <th rowspan=\"2\" valign=\"top\">ns</th>\n",
       "      <th>10</th>\n",
       "      <td>-0.091837</td>\n",
       "      <td>-0.013550</td>\n",
       "    </tr>\n",
       "    <tr>\n",
       "      <th>50</th>\n",
       "      <td>-0.610671</td>\n",
       "      <td>-0.327248</td>\n",
       "    </tr>\n",
       "    <tr>\n",
       "      <th rowspan=\"6\" valign=\"top\">1</th>\n",
       "      <th rowspan=\"6\" valign=\"top\">1</th>\n",
       "      <th rowspan=\"6\" valign=\"top\">0</th>\n",
       "      <th rowspan=\"3\" valign=\"top\">0</th>\n",
       "      <th>3</th>\n",
       "      <th>0</th>\n",
       "      <th>ns</th>\n",
       "      <th>50</th>\n",
       "      <td>-0.307545</td>\n",
       "      <td>0.054074</td>\n",
       "    </tr>\n",
       "    <tr>\n",
       "      <th rowspan=\"2\" valign=\"top\">9</th>\n",
       "      <th rowspan=\"2\" valign=\"top\">0</th>\n",
       "      <th rowspan=\"2\" valign=\"top\">ns</th>\n",
       "      <th>10</th>\n",
       "      <td>-0.142794</td>\n",
       "      <td>0.086674</td>\n",
       "    </tr>\n",
       "    <tr>\n",
       "      <th>50</th>\n",
       "      <td>-0.662614</td>\n",
       "      <td>-0.150024</td>\n",
       "    </tr>\n",
       "    <tr>\n",
       "      <th rowspan=\"3\" valign=\"top\">1</th>\n",
       "      <th rowspan=\"2\" valign=\"top\">3</th>\n",
       "      <th rowspan=\"2\" valign=\"top\">0</th>\n",
       "      <th rowspan=\"2\" valign=\"top\">ns</th>\n",
       "      <th>10</th>\n",
       "      <td>0.181969</td>\n",
       "      <td>0.184655</td>\n",
       "    </tr>\n",
       "    <tr>\n",
       "      <th>50</th>\n",
       "      <td>0.167997</td>\n",
       "      <td>0.180172</td>\n",
       "    </tr>\n",
       "    <tr>\n",
       "      <th>9</th>\n",
       "      <th>0</th>\n",
       "      <th>ns</th>\n",
       "      <th>10</th>\n",
       "      <td>0.188542</td>\n",
       "      <td>0.170488</td>\n",
       "    </tr>\n",
       "    <tr>\n",
       "      <th rowspan=\"3\" valign=\"top\">1</th>\n",
       "      <th rowspan=\"3\" valign=\"top\">0</th>\n",
       "      <th rowspan=\"3\" valign=\"top\">1</th>\n",
       "      <th rowspan=\"3\" valign=\"top\">1</th>\n",
       "      <th rowspan=\"3\" valign=\"top\">1</th>\n",
       "      <th rowspan=\"3\" valign=\"top\">0</th>\n",
       "      <th rowspan=\"3\" valign=\"top\">1</th>\n",
       "      <th rowspan=\"2\" valign=\"top\">3</th>\n",
       "      <th rowspan=\"2\" valign=\"top\">0</th>\n",
       "      <th rowspan=\"2\" valign=\"top\">ns</th>\n",
       "      <th>10</th>\n",
       "      <td>0.166218</td>\n",
       "      <td>0.170036</td>\n",
       "    </tr>\n",
       "    <tr>\n",
       "      <th>50</th>\n",
       "      <td>0.156729</td>\n",
       "      <td>0.182427</td>\n",
       "    </tr>\n",
       "    <tr>\n",
       "      <th>9</th>\n",
       "      <th>0</th>\n",
       "      <th>ns</th>\n",
       "      <th>10</th>\n",
       "      <td>0.196527</td>\n",
       "      <td>0.187607</td>\n",
       "    </tr>\n",
       "  </tbody>\n",
       "</table>\n",
       "</div>"
      ],
      "text/plain": [
       "train_np                                                                                                                                                                         0         1\n",
       "test_lemma test_no_stop test_norm test_np test_np_only train_lemma train_no_stop train_norm train_np_only train_type train_window train_sg_cbow train_hs_ns train_epochs                    \n",
       "0          0            1         0       0            1           0             1          0             0          3            0             ns          10            0.059688  0.101322\n",
       "                                                                                                                                                            50           -0.212111  0.056507\n",
       "                                                                                                                     9            0             ns          10           -0.084473  0.008986\n",
       "                                                                                                                                                            50           -0.378540 -0.212059\n",
       "                                                                   1             1          0             0          3            0             ns          50           -0.140760  0.043857\n",
       "                                                                                                                     9            0             ns          10           -0.099393  0.067162\n",
       "                                                                                                                                                            50           -0.120406  0.012906\n",
       "                                                                                                          1          3            0             ns          10            0.128353  0.121544\n",
       "                                                                                                                                                            50            0.040243  0.072738\n",
       "1          1            1         0       0            1           0             1          0             0          3            0             ns          10            0.084120  0.133120\n",
       "                                                                                                                                                            50           -0.234643  0.050589\n",
       "                                                                                                                     9            0             ns          10           -0.091837 -0.013550\n",
       "                                                                                                                                                            50           -0.610671 -0.327248\n",
       "                                                                   1             1          0             0          3            0             ns          50           -0.307545  0.054074\n",
       "                                                                                                                     9            0             ns          10           -0.142794  0.086674\n",
       "                                                                                                                                                            50           -0.662614 -0.150024\n",
       "                                                                                                          1          3            0             ns          10            0.181969  0.184655\n",
       "                                                                                                                                                            50            0.167997  0.180172\n",
       "                                                                                                                     9            0             ns          10            0.188542  0.170488\n",
       "                                  1       0            1           1             1          0             1          3            0             ns          10            0.166218  0.170036\n",
       "                                                                                                                                                            50            0.156729  0.182427\n",
       "                                                                                                                     9            0             ns          10            0.196527  0.187607"
      ]
     },
     "execution_count": 87,
     "metadata": {},
     "output_type": "execute_result"
    }
   ],
   "source": [
    "temp_results.dropna()"
   ]
  },
  {
   "cell_type": "code",
   "execution_count": 106,
   "metadata": {
    "ExecuteTime": {
     "end_time": "2020-08-01T18:08:58.466988Z",
     "start_time": "2020-08-01T18:08:58.429515Z"
    }
   },
   "outputs": [],
   "source": [
    "temp_results.dropna().reset_index(drop=True).to_clipboard()"
   ]
  },
  {
   "cell_type": "code",
   "execution_count": 89,
   "metadata": {
    "ExecuteTime": {
     "end_time": "2020-08-01T14:55:14.745641Z",
     "start_time": "2020-08-01T14:55:14.735977Z"
    }
   },
   "outputs": [
    {
     "data": {
      "text/plain": [
       "0.13169929836408556"
      ]
     },
     "execution_count": 89,
     "metadata": {},
     "output_type": "execute_result"
    }
   ],
   "source": [
    "np.mean(temp_results.dropna().reset_index(drop=True).iloc[:,1] - temp_results.dropna().reset_index(drop=True).iloc[:,0])"
   ]
  },
  {
   "cell_type": "code",
   "execution_count": 90,
   "metadata": {
    "ExecuteTime": {
     "end_time": "2020-08-01T14:55:14.753947Z",
     "start_time": "2020-08-01T14:55:14.747263Z"
    }
   },
   "outputs": [
    {
     "data": {
      "text/plain": [
       "train_np\n",
       "0   -0.077973\n",
       "1    0.053726\n",
       "dtype: float64"
      ]
     },
     "execution_count": 90,
     "metadata": {},
     "output_type": "execute_result"
    }
   ],
   "source": [
    "temp_results.dropna().mean(axis=0)"
   ]
  },
  {
   "cell_type": "code",
   "execution_count": 91,
   "metadata": {
    "ExecuteTime": {
     "end_time": "2020-08-01T14:55:15.150028Z",
     "start_time": "2020-08-01T14:55:14.755884Z"
    }
   },
   "outputs": [
    {
     "data": {
      "text/plain": [
       "Ttest_relResult(statistic=-3.24759492798077, pvalue=0.004032789251386132)"
      ]
     },
     "execution_count": 91,
     "metadata": {},
     "output_type": "execute_result"
    },
    {
     "data": {
      "image/png": "[encoded data removed]",
      "text/plain": [
       "<Figure size 432x288 with 1 Axes>"
      ]
     },
     "metadata": {
      "needs_background": "light"
     },
     "output_type": "display_data"
    }
   ],
   "source": [
    "values = 'topic_coherence'\n",
    "columns = 'train_lemma'\n",
    "index = [ele for ele in results.columns if ele not in [values, columns, 'topic_diversity']]\n",
    "temp_results = results.pivot_table(values=values,\n",
    "                                   columns=columns,\n",
    "                                   index=index)\n",
    "# sns.barplot(x=columns, y='value', data=temp_results.reset_index(drop=True).melt())\n",
    "sns.lineplot(data=temp_results.dropna().reset_index(drop=True).T.reset_index(drop=True).iloc[:,:6])\n",
    "ttest_rel(temp_results[0], temp_results[1], nan_policy='omit')"
   ]
  },
  {
   "cell_type": "code",
   "execution_count": 92,
   "metadata": {
    "ExecuteTime": {
     "end_time": "2020-08-01T14:55:15.487993Z",
     "start_time": "2020-08-01T14:55:15.152069Z"
    }
   },
   "outputs": [
    {
     "data": {
      "text/plain": [
       "Ttest_relResult(statistic=-1.8277000314578746, pvalue=0.09062952987730669)"
      ]
     },
     "execution_count": 92,
     "metadata": {},
     "output_type": "execute_result"
    },
    {
     "data": {
      "image/png": "[encoded data removed]",
      "text/plain": [
       "<Figure size 432x288 with 1 Axes>"
      ]
     },
     "metadata": {
      "needs_background": "light"
     },
     "output_type": "display_data"
    }
   ],
   "source": [
    "values = 'topic_coherence'\n",
    "columns = 'train_no_stop'\n",
    "index = [ele for ele in results.columns if ele not in [values, columns, 'topic_diversity']]\n",
    "temp_results = results.pivot_table(values=values,\n",
    "                                   columns=columns,\n",
    "                                   index=index)\n",
    "# sns.barplot(x=columns, y='value', data=temp_results.reset_index(drop=True).melt())\n",
    "sns.lineplot(data=temp_results.dropna().reset_index(drop=True).T.reset_index(drop=True).iloc[:,:6])\n",
    "ttest_rel(temp_results[0], temp_results[1], nan_policy='omit')"
   ]
  },
  {
   "cell_type": "code",
   "execution_count": 93,
   "metadata": {
    "ExecuteTime": {
     "end_time": "2020-08-01T14:55:15.509787Z",
     "start_time": "2020-08-01T14:55:15.490104Z"
    }
   },
   "outputs": [
    {
     "data": {
      "text/html": [
       "<div>\n",
       "<style scoped>\n",
       "    .dataframe tbody tr th:only-of-type {\n",
       "        vertical-align: middle;\n",
       "    }\n",
       "\n",
       "    .dataframe tbody tr th {\n",
       "        vertical-align: top;\n",
       "    }\n",
       "\n",
       "    .dataframe thead th {\n",
       "        text-align: right;\n",
       "    }\n",
       "</style>\n",
       "<table border=\"1\" class=\"dataframe\">\n",
       "  <thead>\n",
       "    <tr style=\"text-align: right;\">\n",
       "      <th></th>\n",
       "      <th></th>\n",
       "      <th></th>\n",
       "      <th></th>\n",
       "      <th></th>\n",
       "      <th></th>\n",
       "      <th></th>\n",
       "      <th></th>\n",
       "      <th></th>\n",
       "      <th></th>\n",
       "      <th></th>\n",
       "      <th></th>\n",
       "      <th></th>\n",
       "      <th>train_no_stop</th>\n",
       "      <th>0</th>\n",
       "      <th>1</th>\n",
       "      <th>diff</th>\n",
       "    </tr>\n",
       "    <tr>\n",
       "      <th>test_lemma</th>\n",
       "      <th>test_no_stop</th>\n",
       "      <th>test_norm</th>\n",
       "      <th>test_np</th>\n",
       "      <th>test_np_only</th>\n",
       "      <th>train_lemma</th>\n",
       "      <th>train_norm</th>\n",
       "      <th>train_np</th>\n",
       "      <th>train_np_only</th>\n",
       "      <th>train_type</th>\n",
       "      <th>train_window</th>\n",
       "      <th>train_sg_cbow</th>\n",
       "      <th>train_hs_ns</th>\n",
       "      <th>train_epochs</th>\n",
       "      <th></th>\n",
       "      <th></th>\n",
       "      <th></th>\n",
       "    </tr>\n",
       "  </thead>\n",
       "  <tbody>\n",
       "    <tr>\n",
       "      <th rowspan=\"3\" valign=\"top\">1</th>\n",
       "      <th rowspan=\"3\" valign=\"top\">1</th>\n",
       "      <th rowspan=\"3\" valign=\"top\">1</th>\n",
       "      <th rowspan=\"3\" valign=\"top\">0</th>\n",
       "      <th rowspan=\"3\" valign=\"top\">0</th>\n",
       "      <th rowspan=\"3\" valign=\"top\">1</th>\n",
       "      <th rowspan=\"3\" valign=\"top\">1</th>\n",
       "      <th rowspan=\"3\" valign=\"top\">0</th>\n",
       "      <th rowspan=\"3\" valign=\"top\">0</th>\n",
       "      <th rowspan=\"3\" valign=\"top\">0</th>\n",
       "      <th>3</th>\n",
       "      <th>0</th>\n",
       "      <th>ns</th>\n",
       "      <th>50</th>\n",
       "      <td>-0.234643</td>\n",
       "      <td>-0.307545</td>\n",
       "      <td>-0.072901</td>\n",
       "    </tr>\n",
       "    <tr>\n",
       "      <th rowspan=\"2\" valign=\"top\">9</th>\n",
       "      <th rowspan=\"2\" valign=\"top\">0</th>\n",
       "      <th rowspan=\"2\" valign=\"top\">ns</th>\n",
       "      <th>50</th>\n",
       "      <td>-0.610671</td>\n",
       "      <td>-0.662614</td>\n",
       "      <td>-0.051943</td>\n",
       "    </tr>\n",
       "    <tr>\n",
       "      <th>10</th>\n",
       "      <td>-0.091837</td>\n",
       "      <td>-0.142794</td>\n",
       "      <td>-0.050958</td>\n",
       "    </tr>\n",
       "    <tr>\n",
       "      <th rowspan=\"2\" valign=\"top\">0</th>\n",
       "      <th rowspan=\"2\" valign=\"top\">0</th>\n",
       "      <th rowspan=\"2\" valign=\"top\">1</th>\n",
       "      <th rowspan=\"2\" valign=\"top\">0</th>\n",
       "      <th rowspan=\"2\" valign=\"top\">0</th>\n",
       "      <th rowspan=\"2\" valign=\"top\">1</th>\n",
       "      <th rowspan=\"2\" valign=\"top\">1</th>\n",
       "      <th>0</th>\n",
       "      <th>0</th>\n",
       "      <th>0</th>\n",
       "      <th>9</th>\n",
       "      <th>0</th>\n",
       "      <th>ns</th>\n",
       "      <th>10</th>\n",
       "      <td>-0.084473</td>\n",
       "      <td>-0.099393</td>\n",
       "      <td>-0.014920</td>\n",
       "    </tr>\n",
       "    <tr>\n",
       "      <th>1</th>\n",
       "      <th>0</th>\n",
       "      <th>0</th>\n",
       "      <th>3</th>\n",
       "      <th>0</th>\n",
       "      <th>ns</th>\n",
       "      <th>50</th>\n",
       "      <td>0.056507</td>\n",
       "      <td>0.043857</td>\n",
       "      <td>-0.012649</td>\n",
       "    </tr>\n",
       "    <tr>\n",
       "      <th>1</th>\n",
       "      <th>1</th>\n",
       "      <th>1</th>\n",
       "      <th>0</th>\n",
       "      <th>0</th>\n",
       "      <th>1</th>\n",
       "      <th>1</th>\n",
       "      <th>1</th>\n",
       "      <th>0</th>\n",
       "      <th>0</th>\n",
       "      <th>3</th>\n",
       "      <th>0</th>\n",
       "      <th>ns</th>\n",
       "      <th>50</th>\n",
       "      <td>0.050589</td>\n",
       "      <td>0.054074</td>\n",
       "      <td>0.003485</td>\n",
       "    </tr>\n",
       "    <tr>\n",
       "      <th>0</th>\n",
       "      <th>0</th>\n",
       "      <th>1</th>\n",
       "      <th>0</th>\n",
       "      <th>0</th>\n",
       "      <th>1</th>\n",
       "      <th>1</th>\n",
       "      <th>1</th>\n",
       "      <th>0</th>\n",
       "      <th>0</th>\n",
       "      <th>3</th>\n",
       "      <th>0</th>\n",
       "      <th>ns</th>\n",
       "      <th>10</th>\n",
       "      <td>0.101322</td>\n",
       "      <td>0.111244</td>\n",
       "      <td>0.009923</td>\n",
       "    </tr>\n",
       "    <tr>\n",
       "      <th>1</th>\n",
       "      <th>1</th>\n",
       "      <th>1</th>\n",
       "      <th>0</th>\n",
       "      <th>0</th>\n",
       "      <th>1</th>\n",
       "      <th>1</th>\n",
       "      <th>1</th>\n",
       "      <th>0</th>\n",
       "      <th>0</th>\n",
       "      <th>3</th>\n",
       "      <th>0</th>\n",
       "      <th>ns</th>\n",
       "      <th>10</th>\n",
       "      <td>0.133120</td>\n",
       "      <td>0.147737</td>\n",
       "      <td>0.014616</td>\n",
       "    </tr>\n",
       "    <tr>\n",
       "      <th rowspan=\"2\" valign=\"top\">0</th>\n",
       "      <th rowspan=\"2\" valign=\"top\">0</th>\n",
       "      <th rowspan=\"2\" valign=\"top\">1</th>\n",
       "      <th rowspan=\"2\" valign=\"top\">0</th>\n",
       "      <th rowspan=\"2\" valign=\"top\">0</th>\n",
       "      <th rowspan=\"2\" valign=\"top\">1</th>\n",
       "      <th rowspan=\"2\" valign=\"top\">1</th>\n",
       "      <th>1</th>\n",
       "      <th>0</th>\n",
       "      <th>0</th>\n",
       "      <th>9</th>\n",
       "      <th>0</th>\n",
       "      <th>ns</th>\n",
       "      <th>10</th>\n",
       "      <td>0.008986</td>\n",
       "      <td>0.067162</td>\n",
       "      <td>0.058177</td>\n",
       "    </tr>\n",
       "    <tr>\n",
       "      <th>0</th>\n",
       "      <th>0</th>\n",
       "      <th>0</th>\n",
       "      <th>3</th>\n",
       "      <th>0</th>\n",
       "      <th>ns</th>\n",
       "      <th>50</th>\n",
       "      <td>-0.212111</td>\n",
       "      <td>-0.140760</td>\n",
       "      <td>0.071351</td>\n",
       "    </tr>\n",
       "    <tr>\n",
       "      <th rowspan=\"2\" valign=\"top\">1</th>\n",
       "      <th rowspan=\"2\" valign=\"top\">1</th>\n",
       "      <th rowspan=\"2\" valign=\"top\">1</th>\n",
       "      <th rowspan=\"2\" valign=\"top\">0</th>\n",
       "      <th rowspan=\"2\" valign=\"top\">0</th>\n",
       "      <th rowspan=\"2\" valign=\"top\">1</th>\n",
       "      <th rowspan=\"2\" valign=\"top\">1</th>\n",
       "      <th rowspan=\"2\" valign=\"top\">1</th>\n",
       "      <th rowspan=\"2\" valign=\"top\">0</th>\n",
       "      <th rowspan=\"2\" valign=\"top\">0</th>\n",
       "      <th rowspan=\"2\" valign=\"top\">9</th>\n",
       "      <th rowspan=\"2\" valign=\"top\">0</th>\n",
       "      <th rowspan=\"2\" valign=\"top\">ns</th>\n",
       "      <th>10</th>\n",
       "      <td>-0.013550</td>\n",
       "      <td>0.086674</td>\n",
       "      <td>0.100224</td>\n",
       "    </tr>\n",
       "    <tr>\n",
       "      <th>50</th>\n",
       "      <td>-0.327248</td>\n",
       "      <td>-0.150024</td>\n",
       "      <td>0.177224</td>\n",
       "    </tr>\n",
       "    <tr>\n",
       "      <th rowspan=\"2\" valign=\"top\">0</th>\n",
       "      <th rowspan=\"2\" valign=\"top\">0</th>\n",
       "      <th rowspan=\"2\" valign=\"top\">1</th>\n",
       "      <th rowspan=\"2\" valign=\"top\">0</th>\n",
       "      <th rowspan=\"2\" valign=\"top\">0</th>\n",
       "      <th rowspan=\"2\" valign=\"top\">1</th>\n",
       "      <th rowspan=\"2\" valign=\"top\">1</th>\n",
       "      <th>1</th>\n",
       "      <th>0</th>\n",
       "      <th>0</th>\n",
       "      <th>9</th>\n",
       "      <th>0</th>\n",
       "      <th>ns</th>\n",
       "      <th>50</th>\n",
       "      <td>-0.212059</td>\n",
       "      <td>0.012906</td>\n",
       "      <td>0.224966</td>\n",
       "    </tr>\n",
       "    <tr>\n",
       "      <th>0</th>\n",
       "      <th>0</th>\n",
       "      <th>0</th>\n",
       "      <th>9</th>\n",
       "      <th>0</th>\n",
       "      <th>ns</th>\n",
       "      <th>50</th>\n",
       "      <td>-0.378540</td>\n",
       "      <td>-0.120406</td>\n",
       "      <td>0.258134</td>\n",
       "    </tr>\n",
       "  </tbody>\n",
       "</table>\n",
       "</div>"
      ],
      "text/plain": [
       "train_no_stop                                                                                                                                                               0         1      diff\n",
       "test_lemma test_no_stop test_norm test_np test_np_only train_lemma train_norm train_np train_np_only train_type train_window train_sg_cbow train_hs_ns train_epochs                              \n",
       "1          1            1         0       0            1           1          0        0             0          3            0             ns          50           -0.234643 -0.307545 -0.072901\n",
       "                                                                                                                9            0             ns          50           -0.610671 -0.662614 -0.051943\n",
       "                                                                                                                                                       10           -0.091837 -0.142794 -0.050958\n",
       "0          0            1         0       0            1           1          0        0             0          9            0             ns          10           -0.084473 -0.099393 -0.014920\n",
       "                                                                              1        0             0          3            0             ns          50            0.056507  0.043857 -0.012649\n",
       "1          1            1         0       0            1           1          1        0             0          3            0             ns          50            0.050589  0.054074  0.003485\n",
       "0          0            1         0       0            1           1          1        0             0          3            0             ns          10            0.101322  0.111244  0.009923\n",
       "1          1            1         0       0            1           1          1        0             0          3            0             ns          10            0.133120  0.147737  0.014616\n",
       "0          0            1         0       0            1           1          1        0             0          9            0             ns          10            0.008986  0.067162  0.058177\n",
       "                                                                              0        0             0          3            0             ns          50           -0.212111 -0.140760  0.071351\n",
       "1          1            1         0       0            1           1          1        0             0          9            0             ns          10           -0.013550  0.086674  0.100224\n",
       "                                                                                                                                                       50           -0.327248 -0.150024  0.177224\n",
       "0          0            1         0       0            1           1          1        0             0          9            0             ns          50           -0.212059  0.012906  0.224966\n",
       "                                                                              0        0             0          9            0             ns          50           -0.378540 -0.120406  0.258134"
      ]
     },
     "execution_count": 93,
     "metadata": {},
     "output_type": "execute_result"
    }
   ],
   "source": [
    "foo = temp_results.dropna()\n",
    "foo['diff'] = foo[1] - foo[0]\n",
    "foo.sort_values('diff')"
   ]
  },
  {
   "cell_type": "code",
   "execution_count": 94,
   "metadata": {
    "ExecuteTime": {
     "end_time": "2020-08-01T14:55:15.823724Z",
     "start_time": "2020-08-01T14:55:15.511753Z"
    }
   },
   "outputs": [
    {
     "data": {
      "text/plain": [
       "Ttest_relResult(statistic=-4.2519589847242765, pvalue=0.00035569962733012454)"
      ]
     },
     "execution_count": 94,
     "metadata": {},
     "output_type": "execute_result"
    },
    {
     "data": {
      "image/png": "[encoded data removed]",
      "text/plain": [
       "<Figure size 432x288 with 1 Axes>"
      ]
     },
     "metadata": {
      "needs_background": "light"
     },
     "output_type": "display_data"
    }
   ],
   "source": [
    "values = 'topic_coherence'\n",
    "columns = 'train_type'\n",
    "index = [ele for ele in results.columns if ele not in [values, columns, 'topic_diversity']]\n",
    "temp_results = results.pivot_table(values=values,\n",
    "                                   columns=columns,\n",
    "                                   index=index)\n",
    "# sns.barplot(x=columns, y='value', data=temp_results.reset_index(drop=True).melt())\n",
    "sns.lineplot(data=temp_results.dropna().reset_index(drop=True).T.reset_index(drop=True).iloc[:,:6])\n",
    "ttest_rel(temp_results[0], temp_results[1], nan_policy='omit')"
   ]
  },
  {
   "cell_type": "code",
   "execution_count": 95,
   "metadata": {
    "ExecuteTime": {
     "end_time": "2020-08-01T14:55:15.835110Z",
     "start_time": "2020-08-01T14:55:15.825310Z"
    }
   },
   "outputs": [
    {
     "data": {
      "text/plain": [
       "0.21098927882860333"
      ]
     },
     "execution_count": 95,
     "metadata": {},
     "output_type": "execute_result"
    }
   ],
   "source": [
    "np.mean(temp_results.dropna().reset_index(drop=True).iloc[:,1] - temp_results.dropna().reset_index(drop=True).iloc[:,0])"
   ]
  },
  {
   "cell_type": "code",
   "execution_count": 96,
   "metadata": {
    "ExecuteTime": {
     "end_time": "2020-08-01T14:55:15.845114Z",
     "start_time": "2020-08-01T14:55:15.838561Z"
    }
   },
   "outputs": [
    {
     "data": {
      "text/plain": [
       "train_type\n",
       "0   -0.063255\n",
       "1    0.147735\n",
       "dtype: float64"
      ]
     },
     "execution_count": 96,
     "metadata": {},
     "output_type": "execute_result"
    }
   ],
   "source": [
    "temp_results.dropna().mean(axis=0)"
   ]
  },
  {
   "cell_type": "code",
   "execution_count": 110,
   "metadata": {
    "ExecuteTime": {
     "end_time": "2020-08-02T03:56:50.301922Z",
     "start_time": "2020-08-02T03:56:49.989993Z"
    }
   },
   "outputs": [
    {
     "data": {
      "text/plain": [
       "Ttest_relResult(statistic=9.86637984099398, pvalue=6.045529125585561e-16)"
      ]
     },
     "execution_count": 110,
     "metadata": {},
     "output_type": "execute_result"
    },
    {
     "data": {
      "image/png": "[encoded data removed]",
      "text/plain": [
       "<Figure size 432x288 with 1 Axes>"
      ]
     },
     "metadata": {
      "needs_background": "light"
     },
     "output_type": "display_data"
    }
   ],
   "source": [
    "values = 'topic_coherence'\n",
    "columns = 'train_epochs'\n",
    "index = [ele for ele in results.columns if ele not in [values, columns, 'topic_diversity']]\n",
    "temp_results = results.pivot_table(values=values,\n",
    "                                   columns=columns,\n",
    "                                   index=index)\n",
    "# sns.barplot(x=columns, y='value', data=temp_results.reset_index(drop=True).melt())\n",
    "sns.lineplot(data=temp_results.dropna().reset_index(drop=True).T.reset_index(drop=True).iloc[:,:6])\n",
    "ttest_rel(temp_results[10], temp_results[50], nan_policy='omit')"
   ]
  },
  {
   "cell_type": "code",
   "execution_count": 113,
   "metadata": {
    "ExecuteTime": {
     "end_time": "2020-08-02T03:57:18.183580Z",
     "start_time": "2020-08-02T03:57:18.150704Z"
    }
   },
   "outputs": [],
   "source": [
    "temp_results.reset_index(drop=True).to_clipboard()"
   ]
  },
  {
   "cell_type": "code",
   "execution_count": 107,
   "metadata": {
    "ExecuteTime": {
     "end_time": "2020-08-02T03:47:26.363850Z",
     "start_time": "2020-08-02T03:47:26.077047Z"
    }
   },
   "outputs": [
    {
     "data": {
      "text/plain": [
       "Ttest_relResult(statistic=22.30414033369023, pvalue=6.630067681349814e-53)"
      ]
     },
     "execution_count": 107,
     "metadata": {},
     "output_type": "execute_result"
    },
    {
     "data": {
      "image/png": "[encoded data removed]",
      "text/plain": [
       "<Figure size 432x288 with 1 Axes>"
      ]
     },
     "metadata": {
      "needs_background": "light"
     },
     "output_type": "display_data"
    }
   ],
   "source": [
    "values = 'topic_coherence'\n",
    "columns = 'train_sg_cbow'\n",
    "index = [ele for ele in results.columns if ele not in [values, columns, 'topic_diversity']]\n",
    "temp_results = results.pivot_table(values=values,\n",
    "                                   columns=columns,\n",
    "                                   index=index)\n",
    "# sns.barplot(x=columns, y='value', data=temp_results.reset_index(drop=True).melt())\n",
    "sns.lineplot(data=temp_results.dropna().reset_index(drop=True).T.reset_index(drop=True).iloc[:,:6])\n",
    "ttest_rel(temp_results[0], temp_results[1], nan_policy='omit')"
   ]
  },
  {
   "cell_type": "code",
   "execution_count": 102,
   "metadata": {
    "ExecuteTime": {
     "end_time": "2020-08-01T15:32:43.755163Z",
     "start_time": "2020-08-01T15:32:43.746614Z"
    }
   },
   "outputs": [
    {
     "data": {
      "text/plain": [
       "-0.4594710299081036"
      ]
     },
     "execution_count": 102,
     "metadata": {},
     "output_type": "execute_result"
    }
   ],
   "source": [
    "np.mean(temp_results.dropna().reset_index(drop=True).iloc[:,1] - temp_results.dropna().reset_index(drop=True).iloc[:,0])"
   ]
  },
  {
   "cell_type": "code",
   "execution_count": 109,
   "metadata": {
    "ExecuteTime": {
     "end_time": "2020-08-02T03:47:46.721489Z",
     "start_time": "2020-08-02T03:47:46.684140Z"
    }
   },
   "outputs": [],
   "source": [
    "temp_results.dropna().reset_index(drop=True).to_clipboard()"
   ]
  },
  {
   "cell_type": "code",
   "execution_count": 103,
   "metadata": {
    "ExecuteTime": {
     "end_time": "2020-08-01T15:32:54.171370Z",
     "start_time": "2020-08-01T15:32:54.164296Z"
    }
   },
   "outputs": [
    {
     "data": {
      "text/plain": [
       "train_sg_cbow\n",
       "0    0.116287\n",
       "1   -0.343184\n",
       "dtype: float64"
      ]
     },
     "execution_count": 103,
     "metadata": {},
     "output_type": "execute_result"
    }
   ],
   "source": [
    "temp_results.dropna().mean(axis=0)"
   ]
  },
  {
   "cell_type": "code",
   "execution_count": null,
   "metadata": {},
   "outputs": [],
   "source": []
  },
  {
   "cell_type": "code",
   "execution_count": null,
   "metadata": {},
   "outputs": [],
   "source": []
  }
 ],
 "metadata": {
  "kernelspec": {
   "display_name": "Python 3",
   "language": "python",
   "name": "python3"
  },
  "language_info": {
   "codemirror_mode": {
    "name": "ipython",
    "version": 3
   },
   "file_extension": ".py",
   "mimetype": "text/x-python",
   "name": "python",
   "nbconvert_exporter": "python",
   "pygments_lexer": "ipython3",
   "version": "3.7.6"
  },
  "toc": {
   "base_numbering": 1,
   "nav_menu": {},
   "number_sections": true,
   "sideBar": true,
   "skip_h1_title": false,
   "title_cell": "Table of Contents",
   "title_sidebar": "Contents",
   "toc_cell": false,
   "toc_position": {},
   "toc_section_display": true,
   "toc_window_display": false
  }
 },
 "nbformat": 4,
 "nbformat_minor": 4
}
