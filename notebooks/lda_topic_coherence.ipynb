{
 "cells": [
  {
   "cell_type": "code",
   "execution_count": 1,
   "metadata": {
    "ExecuteTime": {
     "end_time": "2020-08-01T00:53:28.975067Z",
     "start_time": "2020-08-01T00:53:27.772031Z"
    }
   },
   "outputs": [],
   "source": [
    "import os\n",
    "import gensim\n",
    "from gensim import models\n",
    "from gensim.models import CoherenceModel\n",
    "import gensim.corpora as corpora\n",
    "from pprint import pprint\n",
    "\n",
    "from gensim.corpora.textcorpus import TextCorpus\n",
    "from gensim.test.utils import datapath\n",
    "from gensim import utils\n",
    "import pandas as pd\n",
    "import numpy as np"
   ]
  },
  {
   "cell_type": "code",
   "execution_count": 2,
   "metadata": {
    "ExecuteTime": {
     "end_time": "2020-08-01T00:53:29.072374Z",
     "start_time": "2020-08-01T00:53:29.066409Z"
    }
   },
   "outputs": [],
   "source": [
    "current_path = os.path.dirname(os.path.abspath(\"__file__\"))\n",
    "newsgroups_processed_data_loc = f\"{current_path}/../data/processed/20_newsgroups/\"\n",
    "test_docs = [ele for ele in os.listdir(newsgroups_processed_data_loc) if 'test' in ele]\n",
    "train_docs = [ele for ele in os.listdir(newsgroups_processed_data_loc) if 'train' in ele]"
   ]
  },
  {
   "cell_type": "code",
   "execution_count": 3,
   "metadata": {
    "ExecuteTime": {
     "end_time": "2020-08-01T00:53:29.422782Z",
     "start_time": "2020-08-01T00:53:29.418326Z"
    }
   },
   "outputs": [],
   "source": [
    "class corpus_read(TextCorpus):\n",
    "    stopwords = set('for a of the and to in on'.split())\n",
    "\n",
    "    def get_texts(self):\n",
    "        for doc in self.getstream():\n",
    "            yield [word for word in utils.to_unicode(doc).lower().split() if word not in self.stopwords]\n",
    "\n",
    "    def __len__(self):\n",
    "        self.length = sum(1 for _ in self.get_texts())\n",
    "        return self.length"
   ]
  },
  {
   "cell_type": "code",
   "execution_count": 4,
   "metadata": {
    "ExecuteTime": {
     "end_time": "2020-08-01T00:56:47.689355Z",
     "start_time": "2020-08-01T00:53:29.962361Z"
    }
   },
   "outputs": [
    {
     "name": "stdout",
     "output_type": "stream",
     "text": [
      "test_norm.txt - coherence score:  0.40457549674444027\n",
      "test_lemma.txt - coherence score:  0.4464866114467193\n",
      "test_no_stop.txt - coherence score:  0.47180629516285527\n",
      "test_lemma_no_stop.txt - coherence score:  0.49356349928001786\n",
      "test_np_lemma_only.txt - coherence score:  0.5207310089906139\n",
      "test_np_lemma.txt - coherence score:  0.4395579835256781\n",
      "test_np_no_stop.txt - coherence score:  0.5143619860424391\n",
      "test_np_no_stop_only.txt - coherence score:  0.49548898187542845\n",
      "test_np_lemma_no_stop.txt - coherence score:  0.4932273867731273\n"
     ]
    }
   ],
   "source": [
    "doc_coherence_score_dict = {}\n",
    "for test_doc in test_docs:\n",
    "    print(test_doc, end=' - ')\n",
    "    loc = newsgroups_processed_data_loc + test_doc\n",
    "    \n",
    "    texts = [text for text in corpus_read(datapath(loc)).get_texts()]\n",
    "    id2word = corpora.Dictionary(texts)\n",
    "    corpus = [id2word.doc2bow(text) for text in texts]\n",
    "    n_topics = 20\n",
    "    \n",
    "    lda_model = gensim.models.ldamodel.LdaModel(corpus=corpus,\n",
    "                                                id2word=id2word,\n",
    "                                                num_topics=n_topics)\n",
    "    \n",
    "    # Compute Coherence Score\n",
    "    coherence_model_lda = CoherenceModel(model=lda_model, texts=texts, dictionary=id2word, coherence='c_v')\n",
    "    coherence_lda = coherence_model_lda.get_coherence()\n",
    "    print('coherence score: ', coherence_lda)\n",
    "    doc_coherence_score_dict[test_doc] = coherence_lda"
   ]
  },
  {
   "cell_type": "code",
   "execution_count": 5,
   "metadata": {
    "ExecuteTime": {
     "end_time": "2020-08-01T01:01:51.956936Z",
     "start_time": "2020-08-01T00:56:47.691953Z"
    }
   },
   "outputs": [
    {
     "name": "stdout",
     "output_type": "stream",
     "text": [
      "train_norm.txt - coherence score:  0.4560275354213529\n",
      "train_lemma.txt - coherence score:  0.46645915274220123\n",
      "train_no_stop.txt - coherence score:  0.5369845373822405\n",
      "train_lemma_no_stop.txt - coherence score:  0.5218632086370676\n",
      "train_np_lemma.txt - coherence score:  0.4610959441630717\n",
      "train_np_lemma_only.txt - coherence score:  0.5138049077732546\n",
      "train_np_no_stop_only.txt - coherence score:  0.5308114580042114\n",
      "train_np_no_stop.txt - coherence score:  0.5601706561705528\n",
      "train_np_lemma_no_stop.txt - coherence score:  0.5629877120068836\n"
     ]
    }
   ],
   "source": [
    "for train_doc in train_docs:\n",
    "    print(train_doc, end=' - ')\n",
    "    loc = newsgroups_processed_data_loc + train_doc\n",
    "    \n",
    "    texts = [text for text in corpus_read(datapath(loc)).get_texts()]\n",
    "    id2word = corpora.Dictionary(texts)\n",
    "    corpus = [id2word.doc2bow(text) for text in texts]\n",
    "    n_topics = 20\n",
    "    \n",
    "    lda_model = gensim.models.ldamodel.LdaModel(corpus=corpus,\n",
    "                                                id2word=id2word,\n",
    "                                                num_topics=n_topics)\n",
    "    \n",
    "    # Compute Coherence Score\n",
    "    coherence_model_lda = CoherenceModel(model=lda_model, texts=texts, dictionary=id2word, coherence='c_v')\n",
    "    coherence_lda = coherence_model_lda.get_coherence()\n",
    "    print('coherence score: ', coherence_lda)\n",
    "    doc_coherence_score_dict[train_doc] = coherence_lda"
   ]
  },
  {
   "cell_type": "code",
   "execution_count": 8,
   "metadata": {
    "ExecuteTime": {
     "end_time": "2020-08-01T02:12:08.096020Z",
     "start_time": "2020-08-01T02:12:08.083823Z"
    }
   },
   "outputs": [
    {
     "data": {
      "text/html": [
       "<div>\n",
       "<style scoped>\n",
       "    .dataframe tbody tr th:only-of-type {\n",
       "        vertical-align: middle;\n",
       "    }\n",
       "\n",
       "    .dataframe tbody tr th {\n",
       "        vertical-align: top;\n",
       "    }\n",
       "\n",
       "    .dataframe thead th {\n",
       "        text-align: right;\n",
       "    }\n",
       "</style>\n",
       "<table border=\"1\" class=\"dataframe\">\n",
       "  <thead>\n",
       "    <tr style=\"text-align: right;\">\n",
       "      <th></th>\n",
       "      <th>0</th>\n",
       "    </tr>\n",
       "  </thead>\n",
       "  <tbody>\n",
       "    <tr>\n",
       "      <th>test_norm.txt</th>\n",
       "      <td>0.404575</td>\n",
       "    </tr>\n",
       "    <tr>\n",
       "      <th>test_lemma.txt</th>\n",
       "      <td>0.446487</td>\n",
       "    </tr>\n",
       "    <tr>\n",
       "      <th>test_no_stop.txt</th>\n",
       "      <td>0.471806</td>\n",
       "    </tr>\n",
       "    <tr>\n",
       "      <th>test_lemma_no_stop.txt</th>\n",
       "      <td>0.493563</td>\n",
       "    </tr>\n",
       "    <tr>\n",
       "      <th>test_np_lemma_only.txt</th>\n",
       "      <td>0.520731</td>\n",
       "    </tr>\n",
       "    <tr>\n",
       "      <th>test_np_lemma.txt</th>\n",
       "      <td>0.439558</td>\n",
       "    </tr>\n",
       "    <tr>\n",
       "      <th>test_np_no_stop.txt</th>\n",
       "      <td>0.514362</td>\n",
       "    </tr>\n",
       "    <tr>\n",
       "      <th>test_np_no_stop_only.txt</th>\n",
       "      <td>0.495489</td>\n",
       "    </tr>\n",
       "    <tr>\n",
       "      <th>test_np_lemma_no_stop.txt</th>\n",
       "      <td>0.493227</td>\n",
       "    </tr>\n",
       "    <tr>\n",
       "      <th>train_norm.txt</th>\n",
       "      <td>0.456028</td>\n",
       "    </tr>\n",
       "    <tr>\n",
       "      <th>train_lemma.txt</th>\n",
       "      <td>0.466459</td>\n",
       "    </tr>\n",
       "    <tr>\n",
       "      <th>train_no_stop.txt</th>\n",
       "      <td>0.536985</td>\n",
       "    </tr>\n",
       "    <tr>\n",
       "      <th>train_lemma_no_stop.txt</th>\n",
       "      <td>0.521863</td>\n",
       "    </tr>\n",
       "    <tr>\n",
       "      <th>train_np_lemma.txt</th>\n",
       "      <td>0.461096</td>\n",
       "    </tr>\n",
       "    <tr>\n",
       "      <th>train_np_lemma_only.txt</th>\n",
       "      <td>0.513805</td>\n",
       "    </tr>\n",
       "    <tr>\n",
       "      <th>train_np_no_stop_only.txt</th>\n",
       "      <td>0.530811</td>\n",
       "    </tr>\n",
       "    <tr>\n",
       "      <th>train_np_no_stop.txt</th>\n",
       "      <td>0.560171</td>\n",
       "    </tr>\n",
       "    <tr>\n",
       "      <th>train_np_lemma_no_stop.txt</th>\n",
       "      <td>0.562988</td>\n",
       "    </tr>\n",
       "  </tbody>\n",
       "</table>\n",
       "</div>"
      ],
      "text/plain": [
       "                                   0\n",
       "test_norm.txt               0.404575\n",
       "test_lemma.txt              0.446487\n",
       "test_no_stop.txt            0.471806\n",
       "test_lemma_no_stop.txt      0.493563\n",
       "test_np_lemma_only.txt      0.520731\n",
       "test_np_lemma.txt           0.439558\n",
       "test_np_no_stop.txt         0.514362\n",
       "test_np_no_stop_only.txt    0.495489\n",
       "test_np_lemma_no_stop.txt   0.493227\n",
       "train_norm.txt              0.456028\n",
       "train_lemma.txt             0.466459\n",
       "train_no_stop.txt           0.536985\n",
       "train_lemma_no_stop.txt     0.521863\n",
       "train_np_lemma.txt          0.461096\n",
       "train_np_lemma_only.txt     0.513805\n",
       "train_np_no_stop_only.txt   0.530811\n",
       "train_np_no_stop.txt        0.560171\n",
       "train_np_lemma_no_stop.txt  0.562988"
      ]
     },
     "execution_count": 8,
     "metadata": {},
     "output_type": "execute_result"
    }
   ],
   "source": [
    "foo = pd.DataFrame.from_dict(doc_coherence_score_dict, orient='index')\n",
    "foo"
   ]
  },
  {
   "cell_type": "code",
   "execution_count": 10,
   "metadata": {
    "ExecuteTime": {
     "end_time": "2020-08-01T02:12:38.397445Z",
     "start_time": "2020-08-01T02:12:38.388248Z"
    }
   },
   "outputs": [
    {
     "data": {
      "text/plain": [
       "0    0.474721\n",
       "dtype: float64"
      ]
     },
     "execution_count": 10,
     "metadata": {},
     "output_type": "execute_result"
    }
   ],
   "source": [
    "foo.loc[['np' not in ele for ele in foo.index],:].mean()"
   ]
  },
  {
   "cell_type": "code",
   "execution_count": 11,
   "metadata": {
    "ExecuteTime": {
     "end_time": "2020-08-01T02:12:44.237789Z",
     "start_time": "2020-08-01T02:12:44.214935Z"
    }
   },
   "outputs": [
    {
     "data": {
      "text/plain": [
       "0    0.509224\n",
       "dtype: float64"
      ]
     },
     "execution_count": 11,
     "metadata": {},
     "output_type": "execute_result"
    }
   ],
   "source": [
    "foo.loc[['np' in ele for ele in foo.index],:].mean()"
   ]
  }
 ],
 "metadata": {
  "kernelspec": {
   "display_name": "Python 3",
   "language": "python",
   "name": "python3"
  },
  "language_info": {
   "codemirror_mode": {
    "name": "ipython",
    "version": 3
   },
   "file_extension": ".py",
   "mimetype": "text/x-python",
   "name": "python",
   "nbconvert_exporter": "python",
   "pygments_lexer": "ipython3",
   "version": "3.7.6"
  },
  "toc": {
   "base_numbering": 1,
   "nav_menu": {},
   "number_sections": true,
   "sideBar": true,
   "skip_h1_title": false,
   "title_cell": "Table of Contents",
   "title_sidebar": "Contents",
   "toc_cell": false,
   "toc_position": {},
   "toc_section_display": true,
   "toc_window_display": false
  }
 },
 "nbformat": 4,
 "nbformat_minor": 4
}
