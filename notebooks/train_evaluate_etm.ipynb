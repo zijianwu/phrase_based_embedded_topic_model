{
 "cells": [
  {
   "cell_type": "code",
   "execution_count": 12,
   "metadata": {
    "ExecuteTime": {
     "end_time": "2020-07-26T20:10:19.755438Z",
     "start_time": "2020-07-26T20:10:19.753072Z"
    }
   },
   "outputs": [],
   "source": [
    "import os"
   ]
  },
  {
   "cell_type": "code",
   "execution_count": 13,
   "metadata": {
    "ExecuteTime": {
     "end_time": "2020-07-26T20:10:19.929741Z",
     "start_time": "2020-07-26T20:10:19.926974Z"
    }
   },
   "outputs": [],
   "source": [
    "current_path = os.path.dirname(os.path.abspath(\"__file__\"))"
   ]
  },
  {
   "cell_type": "code",
   "execution_count": 14,
   "metadata": {
    "ExecuteTime": {
     "end_time": "2020-07-26T20:10:20.091605Z",
     "start_time": "2020-07-26T20:10:20.086318Z"
    }
   },
   "outputs": [],
   "source": [
    "targets = os.listdir(f\"{current_path}/../data/modeling/20_newsgroups\")\n",
    "targets = [ele for ele in targets if 'DS_Store' not in ele]\n",
    "\n",
    "pretrained_embeddings = os.listdir(f\"{current_path}/../pretrained_embeddings\")\n",
    "pretrained_embeddings = [ele for ele in pretrained_embeddings if '.txt' in ele]"
   ]
  },
  {
   "cell_type": "code",
   "execution_count": 15,
   "metadata": {
    "ExecuteTime": {
     "end_time": "2020-07-26T20:10:20.721172Z",
     "start_time": "2020-07-26T20:10:20.717464Z"
    }
   },
   "outputs": [
    {
     "data": {
      "text/plain": [
       "'train_lemma_no_stop_word2vec_win6_sg0_hs1_epochs20'"
      ]
     },
     "execution_count": 15,
     "metadata": {},
     "output_type": "execute_result"
    }
   ],
   "source": [
    "pretrained_embedding[:-4]"
   ]
  },
  {
   "cell_type": "code",
   "execution_count": 16,
   "metadata": {
    "ExecuteTime": {
     "end_time": "2020-07-26T20:15:34.423226Z",
     "start_time": "2020-07-26T20:10:21.529311Z"
    },
    "scrolled": true
   },
   "outputs": [
    {
     "name": "stdout",
     "output_type": "stream",
     "text": [
      "Starting lemma_no_stop_train_lemma_no_stop_word2vec_win6_sg0_hs1_epochs20\n",
      "python ../src/main.py --mode train --dataset 20ng --data_path ../data/modeling/20_newsgroups/lemma_no_stop --emb_path ../pretrained_embeddings/train_lemma_no_stop_word2vec_win6_sg0_hs1_epochs20.txt --num_topics 20 --train_embeddings 0 --epochs 2 --rho_size 100 --emb_size 100 --save_path ../outputs/lemma_no_stop_train_lemma_no_stop_word2vec_win6_sg0_hs1_epochs20/ > ../logs/lemma_no_stop_train_lemma_no_stop_word2vec_win6_sg0_hs1_epochs20_training_output.txt\n",
      "python ../src/main.py --mode eval --dataset 20ng --data_path ../data/modeling/20_newsgroups/lemma_no_stop --emb_path ../pretrained_embeddings/train_lemma_no_stop_word2vec_win6_sg0_hs1_epochs20.txt --num_topics 20 --train_embeddings 0 --epochs 2 --rho_size 100 --emb_size 100 --load_from ../outputs/lemma_no_stop_train_lemma_no_stop_word2vec_win6_sg0_hs1_epochs20/etm_20ng_K_20_Htheta_800_Optim_adam_Clip_0.0_ThetaAct_relu_Lr_0.005_Bsz_1000_RhoSize_100_trainEmbeddings_0 --tc 1 --td 1 > ../logs/lemma_no_stop_train_lemma_no_stop_word2vec_win6_sg0_hs1_epochs20_test_output.txt\n"
     ]
    }
   ],
   "source": [
    "for target in [targets[0]]:\n",
    "    for pretrained_embedding in [pretrained_embeddings[0]]:\n",
    "        if os.path.exists(f\"{current_path}/../logs/{target}_{pretrained_embedding[:-4]}_test_output.txt\"):\n",
    "            print(f\"{target}_{pretrained_embedding[:-4]} exists\")\n",
    "            continue\n",
    "        else:\n",
    "            print(f\"Starting {target}_{pretrained_embedding[:-4]}\")\n",
    "            training_script = f\"python ../src/main.py --mode train --dataset 20ng --data_path ../data/modeling/20_newsgroups/{target} --emb_path ../pretrained_embeddings/{pretrained_embedding} --num_topics 20 --train_embeddings 0 --epochs 2 --rho_size 100 --emb_size 100 --save_path ../outputs/{target}_{pretrained_embedding[:-4]}/ > ../logs/{target}_{pretrained_embedding[:-4]}_training_output.txt\"\n",
    "            print(training_script)\n",
    "            os.system(training_script)\n",
    "            testing_script = f\"python ../src/main.py --mode eval --dataset 20ng --data_path ../data/modeling/20_newsgroups/{target} --emb_path ../pretrained_embeddings/{pretrained_embedding} --num_topics 20 --train_embeddings 0 --epochs 2 --rho_size 100 --emb_size 100 --load_from ../outputs/{target}_{pretrained_embedding[:-4]}/etm_20ng_K_20_Htheta_800_Optim_adam_Clip_0.0_ThetaAct_relu_Lr_0.005_Bsz_1000_RhoSize_100_trainEmbeddings_0 --tc 1 --td 1 > ../logs/{target}_{pretrained_embedding[:-4]}_test_output.txt\"\n",
    "            print(testing_script)\n",
    "            os.system(testing_script)"
   ]
  },
  {
   "cell_type": "code",
   "execution_count": null,
   "metadata": {
    "ExecuteTime": {
     "start_time": "2020-07-26T18:48:10.405Z"
    }
   },
   "outputs": [],
   "source": [
    "testing_script"
   ]
  },
  {
   "cell_type": "code",
   "execution_count": null,
   "metadata": {
    "ExecuteTime": {
     "end_time": "2020-07-26T18:13:34.766007Z",
     "start_time": "2020-07-26T18:13:34.763534Z"
    }
   },
   "outputs": [],
   "source": [
    "import subprocess\n",
    "import sys"
   ]
  },
  {
   "cell_type": "code",
   "execution_count": null,
   "metadata": {
    "ExecuteTime": {
     "end_time": "2020-07-26T18:23:01.122449Z",
     "start_time": "2020-07-26T18:23:01.120145Z"
    }
   },
   "outputs": [],
   "source": [
    "training_script = f\"python ../src/main.py --mode train --dataset 20ng --data_path ../data/modeling/20_newsgroups/norm --emb_path ../pretrained_embeddings/train_lemma_no_stop_word2vec_win3_sg0_hs1_epochs10.txt --num_topics 20 --train_embeddings 0 --epochs 100 --rho_size 100 --emb_size 100 --save_path ../outputs/norm_train_lemma_no_stop_word2vec_win3_sg0_hs1_epochs10.txt\""
   ]
  },
  {
   "cell_type": "code",
   "execution_count": null,
   "metadata": {
    "ExecuteTime": {
     "end_time": "2020-07-26T18:23:56.188626Z",
     "start_time": "2020-07-26T18:23:43.663849Z"
    }
   },
   "outputs": [],
   "source": [
    "try:\n",
    "    retcode = subprocess.call(training_script, shell=True)\n",
    "    if retcode < 0:\n",
    "        print(\"Child was terminated by signal\", -retcode, file=sys.stderr)\n",
    "    else:\n",
    "        print(\"Child returned\", retcode, file=sys.stdout)\n",
    "except OSError as e:\n",
    "    print(\"Execution failed:\", e, file=sys.stderr)"
   ]
  },
  {
   "cell_type": "code",
   "execution_count": null,
   "metadata": {
    "ExecuteTime": {
     "end_time": "2020-07-26T18:23:02.937846Z",
     "start_time": "2020-07-26T18:23:02.934654Z"
    }
   },
   "outputs": [],
   "source": [
    "training_script"
   ]
  },
  {
   "cell_type": "code",
   "execution_count": null,
   "metadata": {
    "ExecuteTime": {
     "end_time": "2020-07-26T18:23:14.965940Z",
     "start_time": "2020-07-26T18:23:04.407278Z"
    }
   },
   "outputs": [],
   "source": [
    "os.system(training_script)"
   ]
  },
  {
   "cell_type": "code",
   "execution_count": null,
   "metadata": {
    "ExecuteTime": {
     "end_time": "2020-07-26T18:23:37.214861Z",
     "start_time": "2020-07-26T18:23:21.841888Z"
    }
   },
   "outputs": [],
   "source": [
    "!python ../src/main.py --mode train --dataset 20ng --data_path ../data/modeling/20_newsgroups/norm --emb_path ../pretrained_embeddings/train_lemma_no_stop_word2vec_win3_sg0_hs1_epochs10.txt --num_topics 20 --train_embeddings 0 --epochs 100 --rho_size 100 --emb_size 100 --save_path ../outputs/norm_train_lemma_no_stop_word2vec_win3_sg0_hs1_epochs10.txt"
   ]
  }
 ],
 "metadata": {
  "kernelspec": {
   "display_name": "Python 3",
   "language": "python",
   "name": "python3"
  },
  "language_info": {
   "codemirror_mode": {
    "name": "ipython",
    "version": 3
   },
   "file_extension": ".py",
   "mimetype": "text/x-python",
   "name": "python",
   "nbconvert_exporter": "python",
   "pygments_lexer": "ipython3",
   "version": "3.7.6"
  },
  "toc": {
   "base_numbering": 1,
   "nav_menu": {},
   "number_sections": true,
   "sideBar": true,
   "skip_h1_title": false,
   "title_cell": "Table of Contents",
   "title_sidebar": "Contents",
   "toc_cell": false,
   "toc_position": {},
   "toc_section_display": true,
   "toc_window_display": false
  }
 },
 "nbformat": 4,
 "nbformat_minor": 4
}
