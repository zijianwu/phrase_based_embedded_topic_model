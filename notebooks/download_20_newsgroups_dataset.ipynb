{
 "cells": [
  {
   "cell_type": "code",
   "execution_count": 19,
   "metadata": {
    "ExecuteTime": {
     "end_time": "2020-07-05T23:17:38.192211Z",
     "start_time": "2020-07-05T23:17:38.189734Z"
    }
   },
   "outputs": [],
   "source": [
    "from sklearn.datasets import fetch_20newsgroups\n",
    "import pickle\n",
    "import os"
   ]
  },
  {
   "cell_type": "code",
   "execution_count": 34,
   "metadata": {
    "ExecuteTime": {
     "end_time": "2020-07-06T00:07:44.649820Z",
     "start_time": "2020-07-06T00:07:44.646636Z"
    }
   },
   "outputs": [],
   "source": [
    "current_path = os.path.dirname(os.path.abspath(\"__file__\"))\n",
    "\n",
    "newsgroups_train_data_loc = f\"{current_path}/../data/raw/20_newsgroups/train_data.pkl\"\n",
    "newsgroups_train_labels_loc = f\"{current_path}/../data/raw/20_newsgroups/train_labels.pkl\"\n",
    "newsgroups_test_data_loc = f\"{current_path}/../data/raw/20_newsgroups/test_data.pkl\"\n",
    "newsgroups_test_labels_loc = f\"{current_path}/../data/raw/20_newsgroups/test_labels.pkl\"\n",
    "\n",
    "os.makedirs(os.path.dirname(newsgroups_train_data_loc), exist_ok=True)\n",
    "os.makedirs(os.path.dirname(newsgroups_train_labels_loc), exist_ok=True)\n",
    "os.makedirs(os.path.dirname(newsgroups_test_data_loc), exist_ok=True)\n",
    "os.makedirs(os.path.dirname(newsgroups_test_labels_loc), exist_ok=True)"
   ]
  },
  {
   "cell_type": "code",
   "execution_count": 23,
   "metadata": {
    "ExecuteTime": {
     "end_time": "2020-07-05T23:27:21.605828Z",
     "start_time": "2020-07-05T23:27:21.204818Z"
    }
   },
   "outputs": [],
   "source": [
    "train_data, train_labels = fetch_20newsgroups(subset='train', return_X_y=True)\n",
    "test_data, test_labels = fetch_20newsgroups(subset='test', return_X_y=True)"
   ]
  },
  {
   "cell_type": "code",
   "execution_count": 35,
   "metadata": {
    "ExecuteTime": {
     "end_time": "2020-07-06T00:07:45.752867Z",
     "start_time": "2020-07-06T00:07:45.703044Z"
    }
   },
   "outputs": [],
   "source": [
    "pickle.dump(train_data, open(newsgroups_train_data_loc, \"wb\"))\n",
    "pickle.dump(train_labels, open(newsgroups_train_labels_loc, \"wb\"))\n",
    "pickle.dump(test_data, open(newsgroups_test_data_loc, \"wb\"))\n",
    "pickle.dump(test_labels, open(newsgroups_test_labels_loc, \"wb\"))"
   ]
  }
 ],
 "metadata": {
  "kernelspec": {
   "display_name": "Python 3",
   "language": "python",
   "name": "python3"
  },
  "language_info": {
   "codemirror_mode": {
    "name": "ipython",
    "version": 3
   },
   "file_extension": ".py",
   "mimetype": "text/x-python",
   "name": "python",
   "nbconvert_exporter": "python",
   "pygments_lexer": "ipython3",
   "version": "3.7.6"
  },
  "toc": {
   "base_numbering": 1,
   "nav_menu": {},
   "number_sections": true,
   "sideBar": true,
   "skip_h1_title": false,
   "title_cell": "Table of Contents",
   "title_sidebar": "Contents",
   "toc_cell": false,
   "toc_position": {},
   "toc_section_display": true,
   "toc_window_display": false
  }
 },
 "nbformat": 4,
 "nbformat_minor": 4
}
