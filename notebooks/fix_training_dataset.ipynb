{
 "cells": [
  {
   "cell_type": "code",
   "execution_count": 1,
   "metadata": {
    "ExecuteTime": {
     "end_time": "2020-07-25T00:56:31.890962Z",
     "start_time": "2020-07-25T00:56:30.771965Z"
    }
   },
   "outputs": [],
   "source": [
    "import pickle\n",
    "import os\n",
    "\n",
    "import multiprocessing as mp\n",
    "from functools import partial\n",
    "from joblib import Parallel, delayed\n",
    "from tqdm import tqdm\n",
    "from multiprocessing import Process\n",
    "import time\n",
    "import itertools \n",
    "\n",
    "import gensim.downloader as api"
   ]
  },
  {
   "cell_type": "code",
   "execution_count": 2,
   "metadata": {
    "ExecuteTime": {
     "end_time": "2020-07-25T00:56:36.949157Z",
     "start_time": "2020-07-25T00:56:36.946393Z"
    }
   },
   "outputs": [],
   "source": [
    "current_path = os.path.dirname(os.path.abspath(\"__file__\"))"
   ]
  },
  {
   "cell_type": "code",
   "execution_count": 3,
   "metadata": {
    "ExecuteTime": {
     "end_time": "2020-07-25T00:56:47.990901Z",
     "start_time": "2020-07-25T00:56:47.986379Z"
    }
   },
   "outputs": [],
   "source": [
    "def grouper(n, iterable):\n",
    "    it = iter(iterable)\n",
    "    while True:\n",
    "        chunk = list(itertools.islice(it, n))\n",
    "        if not chunk:\n",
    "            return\n",
    "        chunk = [ele['section_texts'] for ele in chunk]\n",
    "        chunk = [ele for sublist in chunk for ele in sublist]\n",
    "        chunk = [ele if len(ele) > 999998 else ele[:999998] for ele in chunk]\n",
    "        yield chunk"
   ]
  },
  {
   "cell_type": "code",
   "execution_count": 8,
   "metadata": {
    "ExecuteTime": {
     "end_time": "2020-07-25T00:58:25.835028Z",
     "start_time": "2020-07-25T00:58:25.606949Z"
    }
   },
   "outputs": [],
   "source": [
    "corpus = api.load('wiki-english-20171001')\n",
    "partitions = grouper(10000, corpus)"
   ]
  },
  {
   "cell_type": "code",
   "execution_count": 9,
   "metadata": {
    "ExecuteTime": {
     "end_time": "2020-07-25T00:58:35.354121Z",
     "start_time": "2020-07-25T00:58:26.482365Z"
    }
   },
   "outputs": [],
   "source": [
    "first_part_len = len(next(partitions))\n",
    "second_part_len = len(next(partitions))\n",
    "third_part_len = len(next(partitions))"
   ]
  },
  {
   "cell_type": "code",
   "execution_count": 10,
   "metadata": {
    "ExecuteTime": {
     "end_time": "2020-07-25T00:58:44.069090Z",
     "start_time": "2020-07-25T00:58:44.066838Z"
    }
   },
   "outputs": [],
   "source": [
    "length_of_training_set = first_part_len + second_part_len + third_part_len"
   ]
  },
  {
   "cell_type": "code",
   "execution_count": 11,
   "metadata": {
    "ExecuteTime": {
     "end_time": "2020-07-25T00:58:48.389393Z",
     "start_time": "2020-07-25T00:58:48.386056Z"
    }
   },
   "outputs": [
    {
     "data": {
      "text/plain": [
       "261500"
      ]
     },
     "execution_count": 11,
     "metadata": {},
     "output_type": "execute_result"
    }
   ],
   "source": [
    "length_of_training_set"
   ]
  },
  {
   "cell_type": "code",
   "execution_count": 21,
   "metadata": {
    "ExecuteTime": {
     "end_time": "2020-07-25T02:12:43.672604Z",
     "start_time": "2020-07-25T02:12:43.668738Z"
    }
   },
   "outputs": [],
   "source": [
    "files = os.listdir(f\"{current_path}/../data/processed/wikipedia\")\n",
    "files = [ele for ele in files if '.txt' in ele]"
   ]
  },
  {
   "cell_type": "code",
   "execution_count": 22,
   "metadata": {
    "ExecuteTime": {
     "end_time": "2020-07-25T02:12:55.433640Z",
     "start_time": "2020-07-25T02:12:45.139127Z"
    }
   },
   "outputs": [],
   "source": [
    "for file in files:\n",
    "    with open(f\"{current_path}/../data/processed/wikipedia/{file}\") as myfile:\n",
    "        text_list = [next(myfile) for x in range(length_of_training_set)]\n",
    "        f6 = open(f\"{current_path}/../data/processed/wikipedia/{'shortened' + file}\", \"w\")           \n",
    "        f6.writelines(text_list)\n",
    "        f6.close()"
   ]
  }
 ],
 "metadata": {
  "kernelspec": {
   "display_name": "Python 3",
   "language": "python",
   "name": "python3"
  },
  "language_info": {
   "codemirror_mode": {
    "name": "ipython",
    "version": 3
   },
   "file_extension": ".py",
   "mimetype": "text/x-python",
   "name": "python",
   "nbconvert_exporter": "python",
   "pygments_lexer": "ipython3",
   "version": "3.7.6"
  },
  "toc": {
   "base_numbering": 1,
   "nav_menu": {},
   "number_sections": true,
   "sideBar": true,
   "skip_h1_title": false,
   "title_cell": "Table of Contents",
   "title_sidebar": "Contents",
   "toc_cell": false,
   "toc_position": {},
   "toc_section_display": true,
   "toc_window_display": false
  }
 },
 "nbformat": 4,
 "nbformat_minor": 4
}
